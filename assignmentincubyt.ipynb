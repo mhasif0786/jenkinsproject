{
 "cells": [
  {
   "cell_type": "code",
   "execution_count": 169,
   "metadata": {},
   "outputs": [],
   "source": [
    "import pymongo"
   ]
  },
  {
   "cell_type": "code",
   "execution_count": 170,
   "metadata": {},
   "outputs": [],
   "source": [
    "from pymongo import MongoClient"
   ]
  },
  {
   "cell_type": "code",
   "execution_count": 171,
   "metadata": {},
   "outputs": [],
   "source": [
    "client = MongoClient()"
   ]
  },
  {
   "cell_type": "code",
   "execution_count": 172,
   "metadata": {},
   "outputs": [
    {
     "data": {
      "text/plain": [
       "MongoClient(host=['localhost:27017'], document_class=dict, tz_aware=False, connect=True)"
      ]
     },
     "execution_count": 172,
     "metadata": {},
     "output_type": "execute_result"
    }
   ],
   "source": [
    "client\n"
   ]
  },
  {
   "cell_type": "code",
   "execution_count": 173,
   "metadata": {},
   "outputs": [
    {
     "data": {
      "text/plain": [
       "Database(MongoClient(host=['localhost:27017'], document_class=dict, tz_aware=False, connect=True), 'dbs')"
      ]
     },
     "execution_count": 173,
     "metadata": {},
     "output_type": "execute_result"
    }
   ],
   "source": [
    "client.dbs\n"
   ]
  },
  {
   "cell_type": "code",
   "execution_count": 174,
   "metadata": {},
   "outputs": [],
   "source": [
    "db = client['medical_data']"
   ]
  },
  {
   "cell_type": "code",
   "execution_count": 175,
   "metadata": {},
   "outputs": [
    {
     "data": {
      "text/plain": [
       "Collection(Database(MongoClient(host=['localhost:27017'], document_class=dict, tz_aware=False, connect=True), 'medical_data'), 'showdbs')"
      ]
     },
     "execution_count": 175,
     "metadata": {},
     "output_type": "execute_result"
    }
   ],
   "source": [
    "db.showdbs"
   ]
  },
  {
   "cell_type": "code",
   "execution_count": 176,
   "metadata": {},
   "outputs": [
    {
     "name": "stderr",
     "output_type": "stream",
     "text": [
      "C:\\Users\\hp\\Anaconda3\\lib\\site-packages\\ipykernel_launcher.py:4: DeprecationWarning: insert is deprecated. Use insert_one or insert_many instead.\n",
      "  after removing the cwd from sys.path.\n"
     ]
    },
    {
     "data": {
      "text/plain": [
       "[ObjectId('60a49f8cfd720aa40125de56'),\n",
       " ObjectId('60a49f8cfd720aa40125de57'),\n",
       " ObjectId('60a49f8cfd720aa40125de58'),\n",
       " ObjectId('60a49f8cfd720aa40125de59')]"
      ]
     },
     "execution_count": 176,
     "metadata": {},
     "output_type": "execute_result"
    }
   ],
   "source": [
    "db.medical_data.insert([{\"Name\":\"Alex\",\"Cust_I\":123457,\"Open_Dt\":20101012,\"Consul_Dt \":20121013 ,\"VAC_ID\":\"MVD\",\"DR_Name\":\"Paul\",\"State\":\"SA\",\"County\":\"USA\",\"DOB\":6031987,\"FLAG\":\"A\"},\n",
    "                           {\"Name\":\"John\",\"Cust_I\":123458,\"Open_Dt\":20101012,\"Consul_Dt \":20121013 ,\"VAC_ID\":\"MVD\",\"DR_Name\":\"Paul\",\"State\":\"TN\",\"County\":\"IND\",\"DOB\":6031987,\"FLAG\":\"A\"},\n",
    "                           {\"Name\":\"Mathew\",\"Cust_I\":123459,\"Open_Dt\":20101012,\"Consul_Dt \":20121013 ,\"VAC_ID\":\"MVD\",\"DR_Name\":\"Paul\",\"State\":\"WAS\",\"County\":\"PHIL\",\"DOB\":6031987,\"FLAG\":\"A\"},\n",
    "                           {\"Name\":\"Matt\",\"Cust_I\":12345,\"Open_Dt\":20101012,\"Consul_Dt \":20121013 ,\"VAC_ID\":\"MVD\",\"DR_Name\":\"Paul\",\"State\":\"BOS\",\"County\":\"NYC\",\"DOB\":6031987,\"FLAG\":\"A\"} ])"
   ]
  },
  {
   "cell_type": "code",
   "execution_count": 177,
   "metadata": {},
   "outputs": [
    {
     "data": {
      "text/plain": [
       "Collection(Database(MongoClient(host=['localhost:27017'], document_class=dict, tz_aware=False, connect=True), 'medical_data'), 'showdbs')"
      ]
     },
     "execution_count": 177,
     "metadata": {},
     "output_type": "execute_result"
    }
   ],
   "source": [
    "db.showdbs"
   ]
  },
  {
   "cell_type": "code",
   "execution_count": 178,
   "metadata": {},
   "outputs": [],
   "source": [
    "data=db.medical_data.find()"
   ]
  },
  {
   "cell_type": "code",
   "execution_count": 179,
   "metadata": {},
   "outputs": [
    {
     "name": "stdout",
     "output_type": "stream",
     "text": [
      "{'_id': ObjectId('60a48962fd720aa40125de3f'), 'name': 'asif'}\n",
      "{'_id': ObjectId('60a48b18fd720aa40125de41'), 'name': 'asif'}\n",
      "{'_id': ObjectId('60a49997fd720aa40125de42'), 'Name': 'Alex', 'Cust_I': 123457, 'Open_Dt': 20101012, 'Consul_Dt ': 20121013, 'VAC_ID': 'MVD', 'DR_Name': 'Paul', 'State': 'SA', 'County': 'USA', 'DOB': 6031987, 'FLAG': 'A'}\n",
      "{'_id': ObjectId('60a49997fd720aa40125de43'), 'Name': 'John', 'Cust_I': 123458, 'Open_Dt': 20101012, 'Consul_Dt ': 20121013, 'VAC_ID': 'MVD', 'DR_Name': 'Paul', 'State': 'TN', 'County': 'IND', 'DOB': 6031987, 'FLAG': 'A'}\n",
      "{'_id': ObjectId('60a49997fd720aa40125de44'), 'Name': 'Mathew', 'Cust_I': 123459, 'Open_Dt': 20101012, 'Consul_Dt ': 20121013, 'VAC_ID': 'MVD', 'DR_Name': 'Paul', 'State': 'WAS', 'County': 'PHIL', 'DOB': 6031987, 'FLAG': 'A'}\n",
      "{'_id': ObjectId('60a49997fd720aa40125de45'), 'Name': 'Matt', 'Cust_I': 12345, 'Open_Dt': 20101012, 'Consul_Dt ': 20121013, 'VAC_ID': 'MVD', 'DR_Name': 'Paul', 'State': 'BOS', 'County': 'NYC', 'DOB': 6031987, 'FLAG': 'A'}\n",
      "{'_id': ObjectId('60a499cdfd720aa40125de47'), 'Name': 'Alex', 'Cust_I': 123457, 'Open_Dt': 20101012, 'Consul_Dt ': 20121013, 'VAC_ID': 'MVD', 'DR_Name': 'Paul', 'State': 'SA', 'County': 'USA', 'DOB': 6031987, 'FLAG': 'A'}\n",
      "{'_id': ObjectId('60a499cdfd720aa40125de48'), 'Name': 'John', 'Cust_I': 123458, 'Open_Dt': 20101012, 'Consul_Dt ': 20121013, 'VAC_ID': 'MVD', 'DR_Name': 'Paul', 'State': 'TN', 'County': 'IND', 'DOB': 6031987, 'FLAG': 'A'}\n",
      "{'_id': ObjectId('60a499cdfd720aa40125de49'), 'Name': 'Mathew', 'Cust_I': 123459, 'Open_Dt': 20101012, 'Consul_Dt ': 20121013, 'VAC_ID': 'MVD', 'DR_Name': 'Paul', 'State': 'WAS', 'County': 'PHIL', 'DOB': 6031987, 'FLAG': 'A'}\n",
      "{'_id': ObjectId('60a499cdfd720aa40125de4a'), 'Name': 'Matt', 'Cust_I': 12345, 'Open_Dt': 20101012, 'Consul_Dt ': 20121013, 'VAC_ID': 'MVD', 'DR_Name': 'Paul', 'State': 'BOS', 'County': 'NYC', 'DOB': 6031987, 'FLAG': 'A'}\n",
      "{'_id': ObjectId('60a49b7ffd720aa40125de4c'), 'Name': 'Alex', 'Cust_I': 123457, 'Open_Dt': 20101012, 'Consul_Dt ': 20121013, 'VAC_ID': 'MVD', 'DR_Name': 'Paul', 'State': 'SA', 'County': 'USA', 'DOB': 6031987, 'FLAG': 'A'}\n",
      "{'_id': ObjectId('60a49b7ffd720aa40125de4d'), 'Name': 'John', 'Cust_I': 123458, 'Open_Dt': 20101012, 'Consul_Dt ': 20121013, 'VAC_ID': 'MVD', 'DR_Name': 'Paul', 'State': 'TN', 'County': 'IND', 'DOB': 6031987, 'FLAG': 'A'}\n",
      "{'_id': ObjectId('60a49b7ffd720aa40125de4e'), 'Name': 'Mathew', 'Cust_I': 123459, 'Open_Dt': 20101012, 'Consul_Dt ': 20121013, 'VAC_ID': 'MVD', 'DR_Name': 'Paul', 'State': 'WAS', 'County': 'PHIL', 'DOB': 6031987, 'FLAG': 'A'}\n",
      "{'_id': ObjectId('60a49b7ffd720aa40125de4f'), 'Name': 'Matt', 'Cust_I': 12345, 'Open_Dt': 20101012, 'Consul_Dt ': 20121013, 'VAC_ID': 'MVD', 'DR_Name': 'Paul', 'State': 'BOS', 'County': 'NYC', 'DOB': 6031987, 'FLAG': 'A'}\n",
      "{'_id': ObjectId('60a49cf4fd720aa40125de51'), 'Name': 'Alex', 'Cust_I': 123457, 'Open_Dt': 20101012, 'Consul_Dt ': 20121013, 'VAC_ID': 'MVD', 'DR_Name': 'Paul', 'State': 'SA', 'County': 'USA', 'DOB': 6031987, 'FLAG': 'A'}\n",
      "{'_id': ObjectId('60a49cf4fd720aa40125de52'), 'Name': 'John', 'Cust_I': 123458, 'Open_Dt': 20101012, 'Consul_Dt ': 20121013, 'VAC_ID': 'MVD', 'DR_Name': 'Paul', 'State': 'TN', 'County': 'IND', 'DOB': 6031987, 'FLAG': 'A'}\n",
      "{'_id': ObjectId('60a49cf4fd720aa40125de53'), 'Name': 'Mathew', 'Cust_I': 123459, 'Open_Dt': 20101012, 'Consul_Dt ': 20121013, 'VAC_ID': 'MVD', 'DR_Name': 'Paul', 'State': 'WAS', 'County': 'PHIL', 'DOB': 6031987, 'FLAG': 'A'}\n",
      "{'_id': ObjectId('60a49cf4fd720aa40125de54'), 'Name': 'Matt', 'Cust_I': 12345, 'Open_Dt': 20101012, 'Consul_Dt ': 20121013, 'VAC_ID': 'MVD', 'DR_Name': 'Paul', 'State': 'BOS', 'County': 'NYC', 'DOB': 6031987, 'FLAG': 'A'}\n",
      "{'_id': ObjectId('60a49f8cfd720aa40125de56'), 'Name': 'Alex', 'Cust_I': 123457, 'Open_Dt': 20101012, 'Consul_Dt ': 20121013, 'VAC_ID': 'MVD', 'DR_Name': 'Paul', 'State': 'SA', 'County': 'USA', 'DOB': 6031987, 'FLAG': 'A'}\n",
      "{'_id': ObjectId('60a49f8cfd720aa40125de57'), 'Name': 'John', 'Cust_I': 123458, 'Open_Dt': 20101012, 'Consul_Dt ': 20121013, 'VAC_ID': 'MVD', 'DR_Name': 'Paul', 'State': 'TN', 'County': 'IND', 'DOB': 6031987, 'FLAG': 'A'}\n",
      "{'_id': ObjectId('60a49f8cfd720aa40125de58'), 'Name': 'Mathew', 'Cust_I': 123459, 'Open_Dt': 20101012, 'Consul_Dt ': 20121013, 'VAC_ID': 'MVD', 'DR_Name': 'Paul', 'State': 'WAS', 'County': 'PHIL', 'DOB': 6031987, 'FLAG': 'A'}\n",
      "{'_id': ObjectId('60a49f8cfd720aa40125de59'), 'Name': 'Matt', 'Cust_I': 12345, 'Open_Dt': 20101012, 'Consul_Dt ': 20121013, 'VAC_ID': 'MVD', 'DR_Name': 'Paul', 'State': 'BOS', 'County': 'NYC', 'DOB': 6031987, 'FLAG': 'A'}\n"
     ]
    }
   ],
   "source": [
    "for j in data:\n",
    "    print(j)"
   ]
  },
  {
   "cell_type": "code",
   "execution_count": 190,
   "metadata": {},
   "outputs": [],
   "source": [
    "s=db.medical_data.find({\"County\":\"USA\"}) "
   ]
  },
  {
   "cell_type": "code",
   "execution_count": 191,
   "metadata": {},
   "outputs": [
    {
     "name": "stdout",
     "output_type": "stream",
     "text": [
      "{'_id': ObjectId('60a49997fd720aa40125de42'), 'Name': 'Alex', 'Cust_I': 123457, 'Open_Dt': 20101012, 'Consul_Dt ': 20121013, 'VAC_ID': 'MVD', 'DR_Name': 'Paul', 'State': 'SA', 'County': 'USA', 'DOB': 6031987, 'FLAG': 'A'}\n",
      "{'_id': ObjectId('60a499cdfd720aa40125de47'), 'Name': 'Alex', 'Cust_I': 123457, 'Open_Dt': 20101012, 'Consul_Dt ': 20121013, 'VAC_ID': 'MVD', 'DR_Name': 'Paul', 'State': 'SA', 'County': 'USA', 'DOB': 6031987, 'FLAG': 'A'}\n",
      "{'_id': ObjectId('60a49b7ffd720aa40125de4c'), 'Name': 'Alex', 'Cust_I': 123457, 'Open_Dt': 20101012, 'Consul_Dt ': 20121013, 'VAC_ID': 'MVD', 'DR_Name': 'Paul', 'State': 'SA', 'County': 'USA', 'DOB': 6031987, 'FLAG': 'A'}\n",
      "{'_id': ObjectId('60a49cf4fd720aa40125de51'), 'Name': 'Alex', 'Cust_I': 123457, 'Open_Dt': 20101012, 'Consul_Dt ': 20121013, 'VAC_ID': 'MVD', 'DR_Name': 'Paul', 'State': 'SA', 'County': 'USA', 'DOB': 6031987, 'FLAG': 'A'}\n",
      "{'_id': ObjectId('60a49f8cfd720aa40125de56'), 'Name': 'Alex', 'Cust_I': 123457, 'Open_Dt': 20101012, 'Consul_Dt ': 20121013, 'VAC_ID': 'MVD', 'DR_Name': 'Paul', 'State': 'SA', 'County': 'USA', 'DOB': 6031987, 'FLAG': 'A'}\n"
     ]
    }
   ],
   "source": [
    "for f in s:\n",
    "    print(f)"
   ]
  },
  {
   "cell_type": "code",
   "execution_count": null,
   "metadata": {},
   "outputs": [],
   "source": []
  },
  {
   "cell_type": "code",
   "execution_count": null,
   "metadata": {},
   "outputs": [],
   "source": []
  }
 ],
 "metadata": {
  "kernelspec": {
   "display_name": "Python 3",
   "language": "python",
   "name": "python3"
  },
  "language_info": {
   "codemirror_mode": {
    "name": "ipython",
    "version": 3
   },
   "file_extension": ".py",
   "mimetype": "text/x-python",
   "name": "python",
   "nbconvert_exporter": "python",
   "pygments_lexer": "ipython3",
   "version": "3.7.4"
  }
 },
 "nbformat": 4,
 "nbformat_minor": 2
}
